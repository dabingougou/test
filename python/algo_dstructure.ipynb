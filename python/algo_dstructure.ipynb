{
 "cells": [
  {
   "cell_type": "markdown",
   "metadata": {},
   "source": [
    "# A file with code exercises for UC Berkeley Algorithm and Data Structure"
   ]
  },
  {
   "cell_type": "code",
   "execution_count": 3,
   "metadata": {},
   "outputs": [],
   "source": [
    "import numpy as np\n",
    "import matplotlib.pyplot as plt \n",
    "a = np.zeros(8)\n",
    "b = np.random.randint(5)"
   ]
  },
  {
   "cell_type": "code",
   "execution_count": 2,
   "metadata": {},
   "outputs": [
    {
     "name": "stdout",
     "output_type": "stream",
     "text": [
      "-\n",
      "--\n",
      "-\n",
      "---\n",
      "-\n",
      "--\n",
      "-\n"
     ]
    }
   ],
   "source": [
    "# English ruler\n",
    "# Midpoint: n dashes \n",
    "# Quarter points: n - dashes so forth\n",
    "\n",
    "def draw_interval(n):\n",
    "    if n > 0:\n",
    "        draw_interval(n - 1)\n",
    "        print('-'*n)\n",
    "        draw_interval(n - 1)\n",
    "\n",
    "draw_interval(3)"
   ]
  },
  {
   "cell_type": "code",
   "execution_count": null,
   "metadata": {},
   "outputs": [],
   "source": []
  },
  {
   "cell_type": "markdown",
   "metadata": {},
   "source": []
  }
 ],
 "metadata": {
  "kernelspec": {
   "display_name": ".venv",
   "language": "python",
   "name": "python3"
  },
  "language_info": {
   "codemirror_mode": {
    "name": "ipython",
    "version": 3
   },
   "file_extension": ".py",
   "mimetype": "text/x-python",
   "name": "python",
   "nbconvert_exporter": "python",
   "pygments_lexer": "ipython3",
   "version": "3.12.1"
  }
 },
 "nbformat": 4,
 "nbformat_minor": 2
}
